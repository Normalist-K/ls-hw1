{
 "cells": [
  {
   "cell_type": "code",
   "execution_count": 1,
   "metadata": {},
   "outputs": [],
   "source": [
    "import numpy as np\n",
    "import os\n",
    "from sklearn.svm import SVC\n",
    "import pickle\n",
    "import argparse\n",
    "import sys\n",
    "import pdb\n",
    "import pandas as pd\n",
    "from sklearn.model_selection import cross_val_score, cross_validate\n",
    "\n",
    "from sklearn.model_selection import GridSearchCV\n",
    "from sklearn.metrics import confusion_matrix\n"
   ]
  },
  {
   "cell_type": "code",
   "execution_count": 10,
   "metadata": {},
   "outputs": [],
   "source": [
    "BASE_DIR = '/root/class/cmu/LSMA/ls-hw1'\n",
    "DATA_DIR = '/shared/youngkim/dataset'\n",
    "os.chdir(DATA_DIR)\n",
    "\n",
    "class args:\n",
    "    feat_dir = 'avg_pooling/y_scns/'\n",
    "    feat_dim = 50\n",
    "    list_videos = os.path.join(DATA_DIR, 'labels/kfold_df.csv')\n",
    "    output_file = 'models/mfcc-50.svm.multiclass.model'\n",
    "    feat_appendix = '.csv'"
   ]
  },
  {
   "cell_type": "code",
   "execution_count": 4,
   "metadata": {},
   "outputs": [
    {
     "data": {
      "text/plain": [
       "(7496,\n",
       "                              Id  Category  kfold\n",
       " 0  NjUzNjkxMTk0MzI5NDYwNTA2NA==         0    3.0\n",
       " 1  LTcxNTE1MDY1Mjc5NzMxMTExNDI=         0    0.0\n",
       " 2  NTMyNTQxODcwODc5MjU2NDk4NA==         0    3.0\n",
       " 3  LTY0NjAxNjcyNTUyNDI5Mzc2MTE=         0    1.0\n",
       " 4  NTgzMjc4Mzk0MjQwMzYyMjA1NQ==         0    1.0)"
      ]
     },
     "execution_count": 4,
     "metadata": {},
     "output_type": "execute_result"
    }
   ],
   "source": [
    "df = pd.read_csv(args.list_videos)\n",
    "len(df), df.head()"
   ]
  },
  {
   "cell_type": "code",
   "execution_count": 5,
   "metadata": {},
   "outputs": [
    {
     "data": {
      "text/plain": [
       "(                                Id  Category  kfold\n",
       " 0     NjUzNjkxMTk0MzI5NDYwNTA2NA==         0    3.0\n",
       " 1     LTcxNTE1MDY1Mjc5NzMxMTExNDI=         0    0.0\n",
       " 2     NTMyNTQxODcwODc5MjU2NDk4NA==         0    3.0\n",
       " 3     LTY0NjAxNjcyNTUyNDI5Mzc2MTE=         0    1.0\n",
       " 4     NTgzMjc4Mzk0MjQwMzYyMjA1NQ==         0    1.0\n",
       " ...                            ...       ...    ...\n",
       " 5992  NTcyMTgwOTU4NjUxMjE2NTIwMA==        14    0.0\n",
       " 5993  LTUxMTQ5Mjg2OTQyNjgyMTc1NzA=        14    1.0\n",
       " 5994  NDA2NjM0NDg5MDc3NzM3NjQ5OA==        14    0.0\n",
       " 5995  LTEwMzgyODQzNTYwMjM5NDY3NzI=        14    0.0\n",
       " 5996  LTQzOTI1MDQ1OTQ3NzUyMjQ4Mg==        14    3.0\n",
       " \n",
       " [5997 rows x 3 columns],\n",
       " 5997)"
      ]
     },
     "execution_count": 5,
     "metadata": {},
     "output_type": "execute_result"
    }
   ],
   "source": [
    "train_df = df[df.kfold != 4.0].copy().reset_index(drop=True)\n",
    "train_df, len(train_df)"
   ]
  },
  {
   "cell_type": "code",
   "execution_count": 6,
   "metadata": {},
   "outputs": [
    {
     "data": {
      "text/plain": [
       "(                                Id  Category  kfold\n",
       " 0     LTc3NzAzMjA5ODk0ODc0OTQyNDI=         0    4.0\n",
       " 1     MTY2MDM5NzQ4NTYyMDU5MDcxNA==         0    4.0\n",
       " 2     LTc2MjMwNzM2OTM0NDg3NzM1Njk=         0    4.0\n",
       " 3     NjIyOTQ3MTMyOTk4OTQyNDg3Mw==         0    4.0\n",
       " 4     LTQ1NDc0MzE1MzIxOTU0NzYwMzg=         0    4.0\n",
       " ...                            ...       ...    ...\n",
       " 1494  LTIxNzI4NzM0ODQwMTY3MzYzMjg=        14    4.0\n",
       " 1495  Mjc4NDk1MTYyNjI1MTU2OTM5OA==        14    4.0\n",
       " 1496  ODkzMDk5NjEzODg2Njk5MjY3OA==        14    4.0\n",
       " 1497  LTcxMzIwMDY2OTM1MDM0OTgwMDI=        14    4.0\n",
       " 1498  LTIwMTA2OTMzMjU2MzMyNzExMDA=        14    4.0\n",
       " \n",
       " [1499 rows x 3 columns],\n",
       " 1499)"
      ]
     },
     "execution_count": 6,
     "metadata": {},
     "output_type": "execute_result"
    }
   ],
   "source": [
    "val_df = df[df.kfold == 4.0].copy().reset_index(drop=True)\n",
    "val_df, len(val_df)"
   ]
  },
  {
   "cell_type": "code",
   "execution_count": 12,
   "metadata": {},
   "outputs": [],
   "source": [
    "train_feat_list, train_label_list = [], []\n",
    "\n",
    "for video_id, label in zip(train_df.Id, train_df.Category):\n",
    "    feat_filepath = os.path.join(args.feat_dir, video_id+args.feat_appendix)\n",
    "    if os.path.exists(feat_filepath):\n",
    "        train_feat_list.append(np.genfromtxt(feat_filepath, delimiter=\";\", dtype=\"float\"))\n",
    "        train_label_list.append(int(label))\n",
    "    else:\n",
    "        print(video_id)"
   ]
  },
  {
   "cell_type": "code",
   "execution_count": 13,
   "metadata": {},
   "outputs": [],
   "source": [
    "train_y = np.array(train_label_list)\n",
    "train_X = np.array(train_feat_list)"
   ]
  },
  {
   "cell_type": "code",
   "execution_count": 14,
   "metadata": {},
   "outputs": [
    {
     "data": {
      "text/plain": [
       "(5997, 401)"
      ]
     },
     "execution_count": 14,
     "metadata": {},
     "output_type": "execute_result"
    }
   ],
   "source": [
    "train_X.shape"
   ]
  },
  {
   "cell_type": "code",
   "execution_count": 15,
   "metadata": {},
   "outputs": [],
   "source": [
    "val_feat_list, val_label_list = [], []\n",
    "\n",
    "for video_id, label in zip(val_df.Id, val_df.Category):\n",
    "    feat_filepath = os.path.join(args.feat_dir, video_id+args.feat_appendix)\n",
    "    if os.path.exists(feat_filepath):\n",
    "        val_feat_list.append(np.genfromtxt(feat_filepath, delimiter=\";\", dtype=\"float\"))\n",
    "        val_label_list.append(int(label))\n",
    "    else:\n",
    "        print(video_id)\n",
    "\n",
    "val_y = np.array(val_label_list)\n",
    "val_X = np.array(val_feat_list)"
   ]
  },
  {
   "cell_type": "code",
   "execution_count": 16,
   "metadata": {},
   "outputs": [],
   "source": [
    "feat_list, label_list = [], []\n",
    "\n",
    "for video_id, label in zip(df.Id, df.Category):\n",
    "    feat_filepath = os.path.join(args.feat_dir, video_id+args.feat_appendix)\n",
    "    if os.path.exists(feat_filepath):\n",
    "        feat_list.append(np.genfromtxt(feat_filepath, delimiter=\";\", dtype=\"float\"))\n",
    "        label_list.append(int(label))\n",
    "    else:\n",
    "        print(video_id)\n",
    "\n",
    "y = np.array(label_list)\n",
    "X = np.array(feat_list)"
   ]
  },
  {
   "cell_type": "code",
   "execution_count": 18,
   "metadata": {},
   "outputs": [
    {
     "name": "stdout",
     "output_type": "stream",
     "text": [
      "    fit_time  score_time  test_score\n",
      "0  15.019957    3.446373    0.410000\n",
      "1  14.339580    3.622315    0.380921\n",
      "2  14.459688    3.649483    0.390927\n",
      "3  14.288757    3.399489    0.394930\n",
      "4  14.767857    3.627563    0.354903\n",
      "mean of cross validation:  0.3863362241494329\n"
     ]
    }
   ],
   "source": [
    "clf = SVC(cache_size=2000, decision_function_shape='ovr', kernel=\"rbf\")\n",
    "result = pd.DataFrame(cross_validate(clf, X, y, cv =5))\n",
    "print(result)\n",
    "print('mean of cross validation: ', np.mean(result.test_score))"
   ]
  },
  {
   "cell_type": "code",
   "execution_count": 19,
   "metadata": {},
   "outputs": [
    {
     "data": {
      "text/html": [
       "<div>\n",
       "<style scoped>\n",
       "    .dataframe tbody tr th:only-of-type {\n",
       "        vertical-align: middle;\n",
       "    }\n",
       "\n",
       "    .dataframe tbody tr th {\n",
       "        vertical-align: top;\n",
       "    }\n",
       "\n",
       "    .dataframe thead th {\n",
       "        text-align: right;\n",
       "    }\n",
       "</style>\n",
       "<table border=\"1\" class=\"dataframe\">\n",
       "  <thead>\n",
       "    <tr style=\"text-align: right;\">\n",
       "      <th></th>\n",
       "      <th>C</th>\n",
       "      <th>mean_test_score</th>\n",
       "    </tr>\n",
       "  </thead>\n",
       "  <tbody>\n",
       "    <tr>\n",
       "      <th>5</th>\n",
       "      <td>50.00</td>\n",
       "      <td>0.520943</td>\n",
       "    </tr>\n",
       "    <tr>\n",
       "      <th>4</th>\n",
       "      <td>25.00</td>\n",
       "      <td>0.508670</td>\n",
       "    </tr>\n",
       "    <tr>\n",
       "      <th>3</th>\n",
       "      <td>10.00</td>\n",
       "      <td>0.486524</td>\n",
       "    </tr>\n",
       "    <tr>\n",
       "      <th>2</th>\n",
       "      <td>1.00</td>\n",
       "      <td>0.386336</td>\n",
       "    </tr>\n",
       "    <tr>\n",
       "      <th>1</th>\n",
       "      <td>0.10</td>\n",
       "      <td>0.192905</td>\n",
       "    </tr>\n",
       "    <tr>\n",
       "      <th>0</th>\n",
       "      <td>0.01</td>\n",
       "      <td>0.149151</td>\n",
       "    </tr>\n",
       "  </tbody>\n",
       "</table>\n",
       "</div>"
      ],
      "text/plain": [
       "       C  mean_test_score\n",
       "5  50.00         0.520943\n",
       "4  25.00         0.508670\n",
       "3  10.00         0.486524\n",
       "2   1.00         0.386336\n",
       "1   0.10         0.192905\n",
       "0   0.01         0.149151"
      ]
     },
     "execution_count": 19,
     "metadata": {},
     "output_type": "execute_result"
    }
   ],
   "source": [
    "svm_clf = SVC(cache_size=2000, decision_function_shape='ovr', kernel=\"rbf\")\n",
    "parameters = {'C': [0.01, 0.1, 1, 10, 25, 50]}\n",
    "\n",
    "grid_svm = GridSearchCV(svm_clf,\n",
    "                      param_grid = parameters, cv = 5)\n",
    "\n",
    "grid_svm.fit(X, y)\n",
    "\n",
    "result = pd.DataFrame(grid_svm.cv_results_['params'])\n",
    "result['mean_test_score'] = grid_svm.cv_results_['mean_test_score']\n",
    "result.sort_values(by='mean_test_score', ascending=False)"
   ]
  },
  {
   "cell_type": "code",
   "execution_count": 21,
   "metadata": {},
   "outputs": [
    {
     "data": {
      "text/html": [
       "<div>\n",
       "<style scoped>\n",
       "    .dataframe tbody tr th:only-of-type {\n",
       "        vertical-align: middle;\n",
       "    }\n",
       "\n",
       "    .dataframe tbody tr th {\n",
       "        vertical-align: top;\n",
       "    }\n",
       "\n",
       "    .dataframe thead th {\n",
       "        text-align: right;\n",
       "    }\n",
       "</style>\n",
       "<table border=\"1\" class=\"dataframe\">\n",
       "  <thead>\n",
       "    <tr style=\"text-align: right;\">\n",
       "      <th></th>\n",
       "      <th>C</th>\n",
       "      <th>mean_test_score</th>\n",
       "    </tr>\n",
       "  </thead>\n",
       "  <tbody>\n",
       "    <tr>\n",
       "      <th>1</th>\n",
       "      <td>100</td>\n",
       "      <td>0.531482</td>\n",
       "    </tr>\n",
       "    <tr>\n",
       "      <th>0</th>\n",
       "      <td>75</td>\n",
       "      <td>0.526547</td>\n",
       "    </tr>\n",
       "  </tbody>\n",
       "</table>\n",
       "</div>"
      ],
      "text/plain": [
       "     C  mean_test_score\n",
       "1  100         0.531482\n",
       "0   75         0.526547"
      ]
     },
     "execution_count": 21,
     "metadata": {},
     "output_type": "execute_result"
    }
   ],
   "source": [
    "svm_clf = SVC(cache_size=2000, decision_function_shape='ovr', kernel=\"rbf\")\n",
    "parameters = {'C': [75, 100]}\n",
    "\n",
    "grid_svm = GridSearchCV(svm_clf,\n",
    "                      param_grid = parameters, cv = 5)\n",
    "\n",
    "grid_svm.fit(X, y)\n",
    "\n",
    "result = pd.DataFrame(grid_svm.cv_results_['params'])\n",
    "result['mean_test_score'] = grid_svm.cv_results_['mean_test_score']\n",
    "result.sort_values(by='mean_test_score', ascending=False)"
   ]
  },
  {
   "cell_type": "code",
   "execution_count": 20,
   "metadata": {},
   "outputs": [
    {
     "data": {
      "text/html": [
       "<div>\n",
       "<style scoped>\n",
       "    .dataframe tbody tr th:only-of-type {\n",
       "        vertical-align: middle;\n",
       "    }\n",
       "\n",
       "    .dataframe tbody tr th {\n",
       "        vertical-align: top;\n",
       "    }\n",
       "\n",
       "    .dataframe thead th {\n",
       "        text-align: right;\n",
       "    }\n",
       "</style>\n",
       "<table border=\"1\" class=\"dataframe\">\n",
       "  <thead>\n",
       "    <tr style=\"text-align: right;\">\n",
       "      <th></th>\n",
       "      <th>C</th>\n",
       "      <th>mean_test_score</th>\n",
       "    </tr>\n",
       "  </thead>\n",
       "  <tbody>\n",
       "    <tr>\n",
       "      <th>5</th>\n",
       "      <td>50.00</td>\n",
       "      <td>0.520943</td>\n",
       "    </tr>\n",
       "    <tr>\n",
       "      <th>4</th>\n",
       "      <td>25.00</td>\n",
       "      <td>0.508670</td>\n",
       "    </tr>\n",
       "    <tr>\n",
       "      <th>3</th>\n",
       "      <td>10.00</td>\n",
       "      <td>0.486524</td>\n",
       "    </tr>\n",
       "    <tr>\n",
       "      <th>2</th>\n",
       "      <td>1.00</td>\n",
       "      <td>0.386336</td>\n",
       "    </tr>\n",
       "    <tr>\n",
       "      <th>1</th>\n",
       "      <td>0.10</td>\n",
       "      <td>0.192905</td>\n",
       "    </tr>\n",
       "    <tr>\n",
       "      <th>0</th>\n",
       "      <td>0.01</td>\n",
       "      <td>0.149151</td>\n",
       "    </tr>\n",
       "  </tbody>\n",
       "</table>\n",
       "</div>"
      ],
      "text/plain": [
       "       C  mean_test_score\n",
       "5  50.00         0.520943\n",
       "4  25.00         0.508670\n",
       "3  10.00         0.486524\n",
       "2   1.00         0.386336\n",
       "1   0.10         0.192905\n",
       "0   0.01         0.149151"
      ]
     },
     "execution_count": 20,
     "metadata": {},
     "output_type": "execute_result"
    }
   ],
   "source": [
    "result = result.sort_values(by='mean_test_score', ascending=False)\n",
    "result[:10]"
   ]
  },
  {
   "cell_type": "code",
   "execution_count": 22,
   "metadata": {},
   "outputs": [
    {
     "data": {
      "text/plain": [
       "SVC(C=100, break_ties=False, cache_size=2000, class_weight=None, coef0=0.0,\n",
       "    decision_function_shape='ovr', degree=3, gamma='scale', kernel='rbf',\n",
       "    max_iter=-1, probability=False, random_state=None, shrinking=True,\n",
       "    tol=0.001, verbose=False)"
      ]
     },
     "execution_count": 22,
     "metadata": {},
     "output_type": "execute_result"
    }
   ],
   "source": [
    "clf = SVC(cache_size=2000, decision_function_shape='ovr', kernel=\"rbf\", C=100)\n",
    "clf.fit(train_X, train_y)"
   ]
  },
  {
   "cell_type": "code",
   "execution_count": 23,
   "metadata": {},
   "outputs": [
    {
     "name": "stdout",
     "output_type": "stream",
     "text": [
      "prediction accuracy: 0.5297\n"
     ]
    },
    {
     "data": {
      "text/plain": [
       "array([[53,  2, 15,  6,  4,  1,  0,  0,  0,  0,  0,  2,  4,  0, 13],\n",
       "       [ 1, 52,  0,  4,  4,  1, 17,  0,  2,  0,  1,  6,  3,  9,  0],\n",
       "       [11,  3, 38,  9,  2,  8,  5,  0,  0,  3,  0,  2,  2,  0, 16],\n",
       "       [11,  0, 10, 35,  4,  5,  7,  0,  0,  4,  0,  5,  9,  0, 10],\n",
       "       [ 0,  3,  5,  5, 61,  2,  8,  1,  0,  0,  0,  9,  4,  1,  1],\n",
       "       [ 1,  0,  2,  1,  2, 54,  7,  3,  3,  5,  0, 17,  1,  2,  2],\n",
       "       [ 0,  2,  0,  0,  1,  1, 71,  8,  0,  7,  1,  5,  3,  1,  0],\n",
       "       [ 0,  0,  0,  1,  1,  5, 30, 43,  0,  4,  1, 11,  2,  0,  2],\n",
       "       [ 2,  2,  2,  1,  0,  1, 12,  0, 61,  4,  2,  0,  9,  4,  0],\n",
       "       [ 5,  1,  3,  0,  0,  1, 12,  1,  7, 37, 19,  0, 11,  2,  1],\n",
       "       [ 4,  0,  1,  1,  0,  0,  2,  0,  2, 12, 66,  1,  8,  0,  3],\n",
       "       [ 0,  1,  3,  1,  4,  4, 19,  9,  1,  3,  0, 51,  1,  1,  2],\n",
       "       [ 9,  1,  2,  0,  3,  2,  8,  0,  5, 17,  7,  0, 40,  0,  6],\n",
       "       [ 0,  6,  1,  0,  1,  0,  8,  0,  8,  4,  0,  0,  4, 68,  0],\n",
       "       [10,  0,  5,  7,  1,  2,  2,  1,  0,  3,  0,  5,  0,  0, 64]])"
      ]
     },
     "execution_count": 23,
     "metadata": {},
     "output_type": "execute_result"
    }
   ],
   "source": [
    "val_pred = clf.predict(val_X)\n",
    "print(f\"prediction accuracy: {np.mean(val_pred == val_y):.4f}\")\n",
    "cf_matrix = confusion_matrix(val_y, val_pred)\n",
    "cf_matrix\n"
   ]
  },
  {
   "cell_type": "code",
   "execution_count": 24,
   "metadata": {},
   "outputs": [
    {
     "data": {
      "text/plain": [
       "<AxesSubplot:>"
      ]
     },
     "execution_count": 24,
     "metadata": {},
     "output_type": "execute_result"
    },
    {
     "data": {
      "image/png": "[encoded data removed]",
      "text/plain": [
       "<Figure size 432x288 with 2 Axes>"
      ]
     },
     "metadata": {
      "needs_background": "light"
     },
     "output_type": "display_data"
    }
   ],
   "source": [
    "import seaborn as sns\n",
    "sns.heatmap(cf_matrix, annot=True)"
   ]
  },
  {
   "cell_type": "code",
   "execution_count": 25,
   "metadata": {},
   "outputs": [],
   "source": [
    "args.output_file = 'models/soundnet.y_scns.svm.best.model'\n",
    "pickle.dump(clf, open(args.output_file, 'wb'))"
   ]
  },
  {
   "cell_type": "code",
   "execution_count": null,
   "metadata": {},
   "outputs": [],
   "source": []
  }
 ],
 "metadata": {
  "interpreter": {
   "hash": "98f3181f4900a3173dff2251935f87d1f345563f3a07cb125f858d750ad52894"
  },
  "kernelspec": {
   "display_name": "Python 3.8.8 ('torch18': conda)",
   "language": "python",
   "name": "python3"
  },
  "language_info": {
   "codemirror_mode": {
    "name": "ipython",
    "version": 3
   },
   "file_extension": ".py",
   "mimetype": "text/x-python",
   "name": "python",
   "nbconvert_exporter": "python",
   "pygments_lexer": "ipython3",
   "version": "3.8.8"
  },
  "orig_nbformat": 4
 },
 "nbformat": 4,
 "nbformat_minor": 2
}
