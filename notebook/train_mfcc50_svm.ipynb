{
 "cells": [
  {
   "cell_type": "code",
   "execution_count": 1,
   "metadata": {},
   "outputs": [],
   "source": [
    "import numpy as np\n",
    "import os\n",
    "from sklearn.svm import SVC\n",
    "import pickle\n",
    "import argparse\n",
    "import sys\n",
    "import pdb\n",
    "import pandas as pd\n",
    "from sklearn.model_selection import cross_val_score, cross_validate"
   ]
  },
  {
   "cell_type": "code",
   "execution_count": 2,
   "metadata": {},
   "outputs": [],
   "source": [
    "BASE_DIR = '/root/class/cmu/LSMA/ls-hw1'\n",
    "DATA_DIR = '/shared/youngkim/dataset'\n",
    "os.chdir(DATA_DIR)\n",
    "\n",
    "class args:\n",
    "    feat_dir = 'bof/'\n",
    "    feat_dim = 50\n",
    "    list_videos = os.path.join(DATA_DIR, 'labels/kfold_df.csv')\n",
    "    output_file = 'models/mfcc-50.svm.multiclass.model'\n",
    "    feat_appendix = '.csv'"
   ]
  },
  {
   "cell_type": "code",
   "execution_count": 3,
   "metadata": {},
   "outputs": [
    {
     "data": {
      "text/plain": [
       "(7496,\n",
       "                              Id  Category  kfold\n",
       " 0  NjUzNjkxMTk0MzI5NDYwNTA2NA==         0    3.0\n",
       " 1  LTcxNTE1MDY1Mjc5NzMxMTExNDI=         0    0.0\n",
       " 2  NTMyNTQxODcwODc5MjU2NDk4NA==         0    3.0\n",
       " 3  LTY0NjAxNjcyNTUyNDI5Mzc2MTE=         0    1.0\n",
       " 4  NTgzMjc4Mzk0MjQwMzYyMjA1NQ==         0    1.0)"
      ]
     },
     "execution_count": 3,
     "metadata": {},
     "output_type": "execute_result"
    }
   ],
   "source": [
    "df = pd.read_csv(args.list_videos)\n",
    "len(df), df.head()"
   ]
  },
  {
   "cell_type": "code",
   "execution_count": 4,
   "metadata": {},
   "outputs": [
    {
     "data": {
      "text/plain": [
       "(                                Id  Category  kfold\n",
       " 0     NjUzNjkxMTk0MzI5NDYwNTA2NA==         0    3.0\n",
       " 1     LTcxNTE1MDY1Mjc5NzMxMTExNDI=         0    0.0\n",
       " 2     NTMyNTQxODcwODc5MjU2NDk4NA==         0    3.0\n",
       " 3     LTY0NjAxNjcyNTUyNDI5Mzc2MTE=         0    1.0\n",
       " 4     NTgzMjc4Mzk0MjQwMzYyMjA1NQ==         0    1.0\n",
       " ...                            ...       ...    ...\n",
       " 5992  NTcyMTgwOTU4NjUxMjE2NTIwMA==        14    0.0\n",
       " 5993  LTUxMTQ5Mjg2OTQyNjgyMTc1NzA=        14    1.0\n",
       " 5994  NDA2NjM0NDg5MDc3NzM3NjQ5OA==        14    0.0\n",
       " 5995  LTEwMzgyODQzNTYwMjM5NDY3NzI=        14    0.0\n",
       " 5996  LTQzOTI1MDQ1OTQ3NzUyMjQ4Mg==        14    3.0\n",
       " \n",
       " [5997 rows x 3 columns],\n",
       " 5997)"
      ]
     },
     "execution_count": 4,
     "metadata": {},
     "output_type": "execute_result"
    }
   ],
   "source": [
    "train_df = df[df.kfold != 4.0].copy().reset_index(drop=True)\n",
    "train_df, len(train_df)"
   ]
  },
  {
   "cell_type": "code",
   "execution_count": 5,
   "metadata": {},
   "outputs": [
    {
     "data": {
      "text/plain": [
       "(                                Id  Category  kfold\n",
       " 0     LTc3NzAzMjA5ODk0ODc0OTQyNDI=         0    4.0\n",
       " 1     MTY2MDM5NzQ4NTYyMDU5MDcxNA==         0    4.0\n",
       " 2     LTc2MjMwNzM2OTM0NDg3NzM1Njk=         0    4.0\n",
       " 3     NjIyOTQ3MTMyOTk4OTQyNDg3Mw==         0    4.0\n",
       " 4     LTQ1NDc0MzE1MzIxOTU0NzYwMzg=         0    4.0\n",
       " ...                            ...       ...    ...\n",
       " 1494  LTIxNzI4NzM0ODQwMTY3MzYzMjg=        14    4.0\n",
       " 1495  Mjc4NDk1MTYyNjI1MTU2OTM5OA==        14    4.0\n",
       " 1496  ODkzMDk5NjEzODg2Njk5MjY3OA==        14    4.0\n",
       " 1497  LTcxMzIwMDY2OTM1MDM0OTgwMDI=        14    4.0\n",
       " 1498  LTIwMTA2OTMzMjU2MzMyNzExMDA=        14    4.0\n",
       " \n",
       " [1499 rows x 3 columns],\n",
       " 1499)"
      ]
     },
     "execution_count": 5,
     "metadata": {},
     "output_type": "execute_result"
    }
   ],
   "source": [
    "val_df = df[df.kfold == 4.0].copy().reset_index(drop=True)\n",
    "val_df, len(val_df)"
   ]
  },
  {
   "cell_type": "code",
   "execution_count": 6,
   "metadata": {},
   "outputs": [],
   "source": [
    "os.chdir(DATA_DIR)\n",
    "\n",
    "train_feat_list, train_label_list = [], []\n",
    "\n",
    "for video_id, label in zip(train_df.Id, train_df.Category):\n",
    "    feat_filepath = os.path.join(args.feat_dir, video_id+args.feat_appendix)\n",
    "    if os.path.exists(feat_filepath):\n",
    "        train_feat_list.append(np.genfromtxt(feat_filepath, delimiter=\";\", dtype=\"float\"))\n",
    "        train_label_list.append(int(label))\n",
    "    else:\n",
    "        print(video_id)"
   ]
  },
  {
   "cell_type": "code",
   "execution_count": 7,
   "metadata": {},
   "outputs": [],
   "source": [
    "train_y = np.array(train_label_list)\n",
    "train_X = np.array(train_feat_list)"
   ]
  },
  {
   "cell_type": "code",
   "execution_count": 8,
   "metadata": {},
   "outputs": [
    {
     "data": {
      "text/plain": [
       "(5997, 50)"
      ]
     },
     "execution_count": 8,
     "metadata": {},
     "output_type": "execute_result"
    }
   ],
   "source": [
    "train_X.shape"
   ]
  },
  {
   "cell_type": "code",
   "execution_count": 9,
   "metadata": {},
   "outputs": [],
   "source": [
    "val_feat_list, val_label_list = [], []\n",
    "\n",
    "for video_id, label in zip(val_df.Id, val_df.Category):\n",
    "    feat_filepath = os.path.join(args.feat_dir, video_id+args.feat_appendix)\n",
    "    if os.path.exists(feat_filepath):\n",
    "        val_feat_list.append(np.genfromtxt(feat_filepath, delimiter=\";\", dtype=\"float\"))\n",
    "        val_label_list.append(int(label))\n",
    "    else:\n",
    "        print(video_id)\n",
    "\n",
    "val_y = np.array(val_label_list)\n",
    "val_X = np.array(val_feat_list)"
   ]
  },
  {
   "cell_type": "code",
   "execution_count": 17,
   "metadata": {},
   "outputs": [
    {
     "data": {
      "text/plain": [
       "SVC(C=1.0, break_ties=False, cache_size=2000, class_weight=None, coef0=0.0,\n",
       "    decision_function_shape='ovr', degree=3, gamma='scale', kernel='rbf',\n",
       "    max_iter=-1, probability=False, random_state=None, shrinking=True,\n",
       "    tol=0.001, verbose=False)"
      ]
     },
     "execution_count": 17,
     "metadata": {},
     "output_type": "execute_result"
    }
   ],
   "source": [
    "clf = SVC(cache_size=2000, decision_function_shape='ovr', kernel=\"rbf\")\n",
    "clf.fit(train_X, train_y)"
   ]
  },
  {
   "cell_type": "code",
   "execution_count": 21,
   "metadata": {},
   "outputs": [
    {
     "name": "stdout",
     "output_type": "stream",
     "text": [
      "prediction accuracy: 0.3402\n"
     ]
    }
   ],
   "source": [
    "val_pred = clf.predict(val_X)\n",
    "print(f\"prediction accuracy: {np.mean(val_pred == val_y):.4f}\")"
   ]
  },
  {
   "cell_type": "code",
   "execution_count": 22,
   "metadata": {},
   "outputs": [],
   "source": [
    "feat_list, label_list = [], []\n",
    "\n",
    "for video_id, label in zip(df.Id, df.Category):\n",
    "    feat_filepath = os.path.join(args.feat_dir, video_id+args.feat_appendix)\n",
    "    if os.path.exists(feat_filepath):\n",
    "        feat_list.append(np.genfromtxt(feat_filepath, delimiter=\";\", dtype=\"float\"))\n",
    "        label_list.append(int(label))\n",
    "    else:\n",
    "        print(video_id)\n",
    "\n",
    "y = np.array(label_list)\n",
    "X = np.array(feat_list)"
   ]
  },
  {
   "cell_type": "code",
   "execution_count": 24,
   "metadata": {},
   "outputs": [
    {
     "data": {
      "text/plain": [
       "array([0.32266667, 0.31420947, 0.31354236, 0.33088726, 0.31821214])"
      ]
     },
     "execution_count": 24,
     "metadata": {},
     "output_type": "execute_result"
    }
   ],
   "source": [
    "clf = SVC(cache_size=2000, decision_function_shape='ovr', kernel=\"rbf\")\n",
    "scores = cross_val_score(clf, X, y, cv = 5)\n",
    "scores\n"
   ]
  },
  {
   "cell_type": "code",
   "execution_count": 26,
   "metadata": {},
   "outputs": [],
   "source": [
    "result = pd.DataFrame(cross_validate(clf, X, y, cv =5))"
   ]
  },
  {
   "cell_type": "code",
   "execution_count": 27,
   "metadata": {},
   "outputs": [
    {
     "data": {
      "text/html": [
       "<div>\n",
       "<style scoped>\n",
       "    .dataframe tbody tr th:only-of-type {\n",
       "        vertical-align: middle;\n",
       "    }\n",
       "\n",
       "    .dataframe tbody tr th {\n",
       "        vertical-align: top;\n",
       "    }\n",
       "\n",
       "    .dataframe thead th {\n",
       "        text-align: right;\n",
       "    }\n",
       "</style>\n",
       "<table border=\"1\" class=\"dataframe\">\n",
       "  <thead>\n",
       "    <tr style=\"text-align: right;\">\n",
       "      <th></th>\n",
       "      <th>fit_time</th>\n",
       "      <th>score_time</th>\n",
       "      <th>test_score</th>\n",
       "    </tr>\n",
       "  </thead>\n",
       "  <tbody>\n",
       "    <tr>\n",
       "      <th>0</th>\n",
       "      <td>2.248603</td>\n",
       "      <td>0.484305</td>\n",
       "      <td>0.322667</td>\n",
       "    </tr>\n",
       "    <tr>\n",
       "      <th>1</th>\n",
       "      <td>2.259047</td>\n",
       "      <td>0.482859</td>\n",
       "      <td>0.314209</td>\n",
       "    </tr>\n",
       "    <tr>\n",
       "      <th>2</th>\n",
       "      <td>2.236904</td>\n",
       "      <td>0.485077</td>\n",
       "      <td>0.313542</td>\n",
       "    </tr>\n",
       "    <tr>\n",
       "      <th>3</th>\n",
       "      <td>2.267325</td>\n",
       "      <td>0.485142</td>\n",
       "      <td>0.330887</td>\n",
       "    </tr>\n",
       "    <tr>\n",
       "      <th>4</th>\n",
       "      <td>2.231615</td>\n",
       "      <td>0.481330</td>\n",
       "      <td>0.318212</td>\n",
       "    </tr>\n",
       "  </tbody>\n",
       "</table>\n",
       "</div>"
      ],
      "text/plain": [
       "   fit_time  score_time  test_score\n",
       "0  2.248603    0.484305    0.322667\n",
       "1  2.259047    0.482859    0.314209\n",
       "2  2.236904    0.485077    0.313542\n",
       "3  2.267325    0.485142    0.330887\n",
       "4  2.231615    0.481330    0.318212"
      ]
     },
     "execution_count": 27,
     "metadata": {},
     "output_type": "execute_result"
    }
   ],
   "source": [
    "result"
   ]
  },
  {
   "cell_type": "code",
   "execution_count": 30,
   "metadata": {},
   "outputs": [
    {
     "data": {
      "text/html": [
       "<div>\n",
       "<style scoped>\n",
       "    .dataframe tbody tr th:only-of-type {\n",
       "        vertical-align: middle;\n",
       "    }\n",
       "\n",
       "    .dataframe tbody tr th {\n",
       "        vertical-align: top;\n",
       "    }\n",
       "\n",
       "    .dataframe thead th {\n",
       "        text-align: right;\n",
       "    }\n",
       "</style>\n",
       "<table border=\"1\" class=\"dataframe\">\n",
       "  <thead>\n",
       "    <tr style=\"text-align: right;\">\n",
       "      <th></th>\n",
       "      <th>C</th>\n",
       "      <th>gamma</th>\n",
       "      <th>mean_test_score</th>\n",
       "    </tr>\n",
       "  </thead>\n",
       "  <tbody>\n",
       "    <tr>\n",
       "      <th>51</th>\n",
       "      <td>50.000</td>\n",
       "      <td>1.0</td>\n",
       "      <td>0.343782</td>\n",
       "    </tr>\n",
       "    <tr>\n",
       "      <th>43</th>\n",
       "      <td>25.000</td>\n",
       "      <td>1.0</td>\n",
       "      <td>0.341114</td>\n",
       "    </tr>\n",
       "    <tr>\n",
       "      <th>59</th>\n",
       "      <td>100.000</td>\n",
       "      <td>1.0</td>\n",
       "      <td>0.340447</td>\n",
       "    </tr>\n",
       "    <tr>\n",
       "      <th>35</th>\n",
       "      <td>10.000</td>\n",
       "      <td>1.0</td>\n",
       "      <td>0.335912</td>\n",
       "    </tr>\n",
       "    <tr>\n",
       "      <th>28</th>\n",
       "      <td>1.000</td>\n",
       "      <td>10.0</td>\n",
       "      <td>0.324306</td>\n",
       "    </tr>\n",
       "    <tr>\n",
       "      <th>...</th>\n",
       "      <td>...</td>\n",
       "      <td>...</td>\n",
       "      <td>...</td>\n",
       "    </tr>\n",
       "    <tr>\n",
       "      <th>14</th>\n",
       "      <td>0.010</td>\n",
       "      <td>50.0</td>\n",
       "      <td>0.143008</td>\n",
       "    </tr>\n",
       "    <tr>\n",
       "      <th>6</th>\n",
       "      <td>0.001</td>\n",
       "      <td>50.0</td>\n",
       "      <td>0.143008</td>\n",
       "    </tr>\n",
       "    <tr>\n",
       "      <th>23</th>\n",
       "      <td>0.100</td>\n",
       "      <td>100.0</td>\n",
       "      <td>0.100720</td>\n",
       "    </tr>\n",
       "    <tr>\n",
       "      <th>15</th>\n",
       "      <td>0.010</td>\n",
       "      <td>100.0</td>\n",
       "      <td>0.100720</td>\n",
       "    </tr>\n",
       "    <tr>\n",
       "      <th>7</th>\n",
       "      <td>0.001</td>\n",
       "      <td>100.0</td>\n",
       "      <td>0.100720</td>\n",
       "    </tr>\n",
       "  </tbody>\n",
       "</table>\n",
       "<p>64 rows × 3 columns</p>\n",
       "</div>"
      ],
      "text/plain": [
       "          C  gamma  mean_test_score\n",
       "51   50.000    1.0         0.343782\n",
       "43   25.000    1.0         0.341114\n",
       "59  100.000    1.0         0.340447\n",
       "35   10.000    1.0         0.335912\n",
       "28    1.000   10.0         0.324306\n",
       "..      ...    ...              ...\n",
       "14    0.010   50.0         0.143008\n",
       "6     0.001   50.0         0.143008\n",
       "23    0.100  100.0         0.100720\n",
       "15    0.010  100.0         0.100720\n",
       "7     0.001  100.0         0.100720\n",
       "\n",
       "[64 rows x 3 columns]"
      ]
     },
     "execution_count": 30,
     "metadata": {},
     "output_type": "execute_result"
    }
   ],
   "source": [
    "from sklearn.model_selection import GridSearchCV\n",
    "\n",
    "svm_clf = SVC(cache_size=2000, decision_function_shape='ovr', kernel=\"rbf\")\n",
    "parameters = {'C': [0.001, 0.01, 0.1, 1, 10, 25, 50, 100],\n",
    "             'gamma':[0.001, 0.01, 0.1, 1, 10, 25, 50, 100]}\n",
    "\n",
    "grid_svm = GridSearchCV(svm_clf,\n",
    "                      param_grid = parameters, cv = 5)\n",
    "\n",
    "grid_svm.fit(X, y)\n",
    "\n",
    "result = pd.DataFrame(grid_svm.cv_results_['params'])\n",
    "result['mean_test_score'] = grid_svm.cv_results_['mean_test_score']\n",
    "result.sort_values(by='mean_test_score', ascending=False)"
   ]
  },
  {
   "cell_type": "code",
   "execution_count": 33,
   "metadata": {},
   "outputs": [
    {
     "data": {
      "text/html": [
       "<div>\n",
       "<style scoped>\n",
       "    .dataframe tbody tr th:only-of-type {\n",
       "        vertical-align: middle;\n",
       "    }\n",
       "\n",
       "    .dataframe tbody tr th {\n",
       "        vertical-align: top;\n",
       "    }\n",
       "\n",
       "    .dataframe thead th {\n",
       "        text-align: right;\n",
       "    }\n",
       "</style>\n",
       "<table border=\"1\" class=\"dataframe\">\n",
       "  <thead>\n",
       "    <tr style=\"text-align: right;\">\n",
       "      <th></th>\n",
       "      <th>C</th>\n",
       "      <th>gamma</th>\n",
       "      <th>mean_test_score</th>\n",
       "    </tr>\n",
       "  </thead>\n",
       "  <tbody>\n",
       "    <tr>\n",
       "      <th>51</th>\n",
       "      <td>50.0</td>\n",
       "      <td>1.0</td>\n",
       "      <td>0.343782</td>\n",
       "    </tr>\n",
       "    <tr>\n",
       "      <th>43</th>\n",
       "      <td>25.0</td>\n",
       "      <td>1.0</td>\n",
       "      <td>0.341114</td>\n",
       "    </tr>\n",
       "    <tr>\n",
       "      <th>59</th>\n",
       "      <td>100.0</td>\n",
       "      <td>1.0</td>\n",
       "      <td>0.340447</td>\n",
       "    </tr>\n",
       "    <tr>\n",
       "      <th>35</th>\n",
       "      <td>10.0</td>\n",
       "      <td>1.0</td>\n",
       "      <td>0.335912</td>\n",
       "    </tr>\n",
       "    <tr>\n",
       "      <th>28</th>\n",
       "      <td>1.0</td>\n",
       "      <td>10.0</td>\n",
       "      <td>0.324306</td>\n",
       "    </tr>\n",
       "    <tr>\n",
       "      <th>58</th>\n",
       "      <td>100.0</td>\n",
       "      <td>0.1</td>\n",
       "      <td>0.320703</td>\n",
       "    </tr>\n",
       "    <tr>\n",
       "      <th>50</th>\n",
       "      <td>50.0</td>\n",
       "      <td>0.1</td>\n",
       "      <td>0.314433</td>\n",
       "    </tr>\n",
       "    <tr>\n",
       "      <th>29</th>\n",
       "      <td>1.0</td>\n",
       "      <td>25.0</td>\n",
       "      <td>0.309231</td>\n",
       "    </tr>\n",
       "    <tr>\n",
       "      <th>42</th>\n",
       "      <td>25.0</td>\n",
       "      <td>0.1</td>\n",
       "      <td>0.307496</td>\n",
       "    </tr>\n",
       "    <tr>\n",
       "      <th>36</th>\n",
       "      <td>10.0</td>\n",
       "      <td>10.0</td>\n",
       "      <td>0.307097</td>\n",
       "    </tr>\n",
       "  </tbody>\n",
       "</table>\n",
       "</div>"
      ],
      "text/plain": [
       "        C  gamma  mean_test_score\n",
       "51   50.0    1.0         0.343782\n",
       "43   25.0    1.0         0.341114\n",
       "59  100.0    1.0         0.340447\n",
       "35   10.0    1.0         0.335912\n",
       "28    1.0   10.0         0.324306\n",
       "58  100.0    0.1         0.320703\n",
       "50   50.0    0.1         0.314433\n",
       "29    1.0   25.0         0.309231\n",
       "42   25.0    0.1         0.307496\n",
       "36   10.0   10.0         0.307097"
      ]
     },
     "execution_count": 33,
     "metadata": {},
     "output_type": "execute_result"
    }
   ],
   "source": [
    "result = result.sort_values(by='mean_test_score', ascending=False)\n",
    "result[:10]"
   ]
  },
  {
   "cell_type": "code",
   "execution_count": 10,
   "metadata": {},
   "outputs": [
    {
     "data": {
      "text/plain": [
       "SVC(C=50, break_ties=False, cache_size=2000, class_weight=None, coef0=0.0,\n",
       "    decision_function_shape='ovr', degree=3, gamma=1.0, kernel='rbf',\n",
       "    max_iter=-1, probability=False, random_state=None, shrinking=True,\n",
       "    tol=0.001, verbose=False)"
      ]
     },
     "execution_count": 10,
     "metadata": {},
     "output_type": "execute_result"
    }
   ],
   "source": [
    "clf = SVC(cache_size=2000, decision_function_shape='ovr', kernel=\"rbf\", C=50, gamma=1.0)\n",
    "clf.fit(train_X, train_y)"
   ]
  },
  {
   "cell_type": "code",
   "execution_count": 11,
   "metadata": {},
   "outputs": [
    {
     "name": "stdout",
     "output_type": "stream",
     "text": [
      "prediction accuracy: 0.3596\n"
     ]
    },
    {
     "data": {
      "text/plain": [
       "array([[51,  0, 14,  7,  3,  0,  0,  1,  1,  2,  2,  7,  3,  1,  8],\n",
       "       [ 0, 33,  1,  4,  7,  7, 20,  3,  0,  3,  2,  9,  1,  9,  1],\n",
       "       [ 9,  1, 25, 12,  7,  4,  3,  2,  1,  4,  3,  9,  4,  5, 10],\n",
       "       [12,  8, 11, 23,  9,  3, 11,  2,  1,  5,  0,  6,  2,  1,  6],\n",
       "       [ 4, 10,  6,  5, 32,  4, 12,  1,  2,  4,  2, 13,  2,  1,  2],\n",
       "       [ 3,  3,  7,  3,  7, 33,  7,  5, 11,  3,  1, 10,  3,  4,  0],\n",
       "       [ 3,  9,  1,  4,  5,  5, 43,  5,  9,  3,  3,  4,  3,  3,  0],\n",
       "       [ 2,  6,  1,  3,  4,  3, 16, 18, 15, 14,  1, 10,  6,  1,  0],\n",
       "       [ 4,  6,  3,  1,  1,  5,  7,  5, 42,  8,  1,  2,  4,  9,  2],\n",
       "       [ 5,  4,  2,  4,  5,  4, 14,  1,  7, 32,  5,  4, 11,  0,  2],\n",
       "       [ 2,  0,  3,  3,  1,  1,  4,  0,  3,  7, 66,  2,  4,  0,  4],\n",
       "       [ 3,  8,  7,  8,  3,  5,  8,  3,  9,  2,  3, 33,  2,  2,  4],\n",
       "       [10,  5,  3,  6,  7,  2,  7,  4,  6, 12,  4,  2, 28,  1,  3],\n",
       "       [ 4,  8,  3,  3,  4,  8,  7,  1, 11,  2,  2,  5,  7, 33,  2],\n",
       "       [13,  2,  9,  9,  4,  2,  1,  0,  0,  3,  0,  6,  2,  2, 47]])"
      ]
     },
     "execution_count": 11,
     "metadata": {},
     "output_type": "execute_result"
    }
   ],
   "source": [
    "from sklearn.metrics import confusion_matrix\n",
    "\n",
    "val_pred = clf.predict(val_X)\n",
    "print(f\"prediction accuracy: {np.mean(val_pred == val_y):.4f}\")\n",
    "cf_matrix = confusion_matrix(val_y, val_pred)\n",
    "cf_matrix\n"
   ]
  },
  {
   "cell_type": "code",
   "execution_count": 12,
   "metadata": {},
   "outputs": [
    {
     "data": {
      "text/plain": [
       "<AxesSubplot:>"
      ]
     },
     "execution_count": 12,
     "metadata": {},
     "output_type": "execute_result"
    },
    {
     "data": {
      "image/png": "[encoded data removed]",
      "text/plain": [
       "<Figure size 432x288 with 2 Axes>"
      ]
     },
     "metadata": {
      "needs_background": "light"
     },
     "output_type": "display_data"
    }
   ],
   "source": [
    "import seaborn as sns\n",
    "sns.heatmap(cf_matrix, annot=True)"
   ]
  },
  {
   "cell_type": "code",
   "execution_count": 13,
   "metadata": {},
   "outputs": [],
   "source": [
    "args.output_file = 'models/mfcc50.svm.best.model'\n",
    "pickle.dump(clf, open(args.output_file, 'wb'))"
   ]
  },
  {
   "cell_type": "code",
   "execution_count": null,
   "metadata": {},
   "outputs": [],
   "source": []
  }
 ],
 "metadata": {
  "interpreter": {
   "hash": "98f3181f4900a3173dff2251935f87d1f345563f3a07cb125f858d750ad52894"
  },
  "kernelspec": {
   "display_name": "Python 3.8.8 ('torch18': conda)",
   "language": "python",
   "name": "python3"
  },
  "language_info": {
   "codemirror_mode": {
    "name": "ipython",
    "version": 3
   },
   "file_extension": ".py",
   "mimetype": "text/x-python",
   "name": "python",
   "nbconvert_exporter": "python",
   "pygments_lexer": "ipython3",
   "version": "3.8.8"
  },
  "orig_nbformat": 4
 },
 "nbformat": 4,
 "nbformat_minor": 2
}
