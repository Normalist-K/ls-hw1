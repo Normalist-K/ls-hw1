{
 "cells": [
  {
   "cell_type": "code",
   "execution_count": 1,
   "metadata": {},
   "outputs": [],
   "source": [
    "import os\n",
    "from glob import glob\n",
    "from tqdm import tqdm\n",
    "import numpy as np\n",
    "import pandas as pd"
   ]
  },
  {
   "cell_type": "code",
   "execution_count": 3,
   "metadata": {},
   "outputs": [],
   "source": [
    "BASE_DIR = '/root/class/cmu/LSMA/11775-hws/spring2022/hw1'\n",
    "DATA_DIR = '/shared/youngkim/dataset'\n",
    "LABEL_DIR = os.path.join(DATA_DIR, 'labels')"
   ]
  },
  {
   "cell_type": "code",
   "execution_count": 11,
   "metadata": {},
   "outputs": [
    {
     "data": {
      "text/plain": [
       "False"
      ]
     },
     "execution_count": 11,
     "metadata": {},
     "output_type": "execute_result"
    }
   ],
   "source": [
    "'selected.mfcc.csv' in os.listdir(os.path.join(DATA_DIR, 'mfcc'))"
   ]
  },
  {
   "cell_type": "code",
   "execution_count": 47,
   "metadata": {},
   "outputs": [
    {
     "name": "stdout",
     "output_type": "stream",
     "text": [
      "['avg_pooling', 'videos', 'raw', 'bof', 'mp3', 'wav', 'labels', 'mfcc', 'models']\n"
     ]
    },
    {
     "data": {
      "text/plain": [
       "\"\\n1. videos : video data (.mp4) * 8249\\n2. mp3 | wav : audio data from video (.mp3 / .wav) * 8245 ? (where is 4 file compared to videos?)\\n    - wav : channel 1, sample rate 44100\\n    - mp3 : channel 1, sample rate 22050\\n3. mfcc : MFCCs from wav (.csv) * 8245 & 'selected.mfcc.csv' * 1\\n    -> train K-Means(k=50) using 'selected.mfcc.csv' => return models/kmeans.50.model (CODEBOOK) (k can be changed)\\n4-1. bof : 50 features from MFCC & CODEBOOK (.csv) * 8245 (# of features == # of cluster)\\n4-2. raw : out features from SoundNet(model) & mp3(input) (.npy) * 8245\\n    - .npy.item().keys() -> ['conv7', 'y_obj', 'y_scns']\\n    - conv7.shape = 1, 1024, sequence length, 1\\n    - y_obj.shape = 1, 1000, sequence length, 1\\n    - y_scns.shape = 1, 401, sequence length, 1\\n                    (batch size, features, sequence length, output dimension?)\\n5. avg_pooling/* : features after average pooling (.csv) * 8245\\n    - conv7 : 1024\\n    - y_obj : 1000\\n    - y_scns : 401\\n\""
      ]
     },
     "execution_count": 47,
     "metadata": {},
     "output_type": "execute_result"
    }
   ],
   "source": [
    "print(os.listdir(DATA_DIR))\n",
    "'''\n",
    "1. videos : video data (.mp4) * 8249\n",
    "2. mp3 | wav : audio data from video (.mp3 / .wav) * 8245 ? (where is 4 file compared to videos?)\n",
    "    - wav : channel 1, sample rate 44100\n",
    "    - mp3 : channel 1, sample rate 22050\n",
    "3. mfcc : MFCCs from wav (.csv) * 8245 & 'selected.mfcc.csv' * 1\n",
    "    -> train K-Means(k=50) using 'selected.mfcc.csv' => return models/kmeans.50.model (CODEBOOK) (k can be changed)\n",
    "4-1. bof : 50 features from MFCC & CODEBOOK (.csv) * 8245 (# of features == # of cluster)\n",
    "4-2. raw : out features from SoundNet(model) & mp3(input) (.npy) * 8245\n",
    "    - .npy.item().keys() -> ['conv7', 'y_obj', 'y_scns']\n",
    "    - conv7.shape = 1, 1024, sequence length, 1\n",
    "    - y_obj.shape = 1, 1000, sequence length, 1\n",
    "    - y_scns.shape = 1, 401, sequence length, 1\n",
    "                    (batch size, features, sequence length, output dimension?)\n",
    "5. avg_pooling/* : features after average pooling (.csv) * 8245\n",
    "    - conv7 : 1024\n",
    "    - y_obj : 1000\n",
    "    - y_scns : 401\n",
    "'''"
   ]
  },
  {
   "cell_type": "code",
   "execution_count": 29,
   "metadata": {},
   "outputs": [
    {
     "name": "stdout",
     "output_type": "stream",
     "text": [
      "(1, 401, 7, 1)\n",
      "(1, 401, 4, 1)\n",
      "(1, 401, 4, 1)\n",
      "(1, 401, 4, 1)\n",
      "(1, 401, 4, 1)\n",
      "(1, 401, 6, 1)\n",
      "(1, 401, 4, 1)\n",
      "(1, 401, 4, 1)\n",
      "(1, 401, 7, 1)\n",
      "(1, 401, 7, 1)\n"
     ]
    }
   ],
   "source": [
    "for i in range(10):\n",
    "    sample_npy = os.listdir(os.path.join(DATA_DIR, 'raw'))[i]\n",
    "    sample_npy = np.load(os.path.join(DATA_DIR, f'raw/{sample_npy}'), allow_pickle=True)\n",
    "    sample_npy = sample_npy.item()\n",
    "    print(sample_npy['y_scns'].shape)"
   ]
  },
  {
   "cell_type": "code",
   "execution_count": 35,
   "metadata": {},
   "outputs": [
    {
     "data": {
      "text/plain": [
       "'LTYzMTY1ODM5NTYxMjk3NTMyODc=.csv'"
      ]
     },
     "execution_count": 35,
     "metadata": {},
     "output_type": "execute_result"
    }
   ],
   "source": [
    "os.listdir(os.path.join(DATA_DIR, 'avg_pooling/y_scns'))[0]"
   ]
  },
  {
   "cell_type": "code",
   "execution_count": 4,
   "metadata": {},
   "outputs": [
    {
     "data": {
      "text/plain": [
       "8245"
      ]
     },
     "execution_count": 4,
     "metadata": {},
     "output_type": "execute_result"
    }
   ],
   "source": [
    "len(os.listdir(os.path.join(DATA_DIR, 'bof')))"
   ]
  },
  {
   "cell_type": "code",
   "execution_count": 23,
   "metadata": {},
   "outputs": [
    {
     "data": {
      "text/plain": [
       "((1, 1024, 21, 1), (1, 1000, 7, 1), (1, 401, 7, 1))"
      ]
     },
     "execution_count": 23,
     "metadata": {},
     "output_type": "execute_result"
    }
   ],
   "source": [
    "raw_data_paths = glob(os.path.join(DATA_DIR, 'raw/*'))\n",
    "raw_sample = np.load(raw_data_paths[0], allow_pickle=True).item()\n",
    "raw_sample['conv7'].shape, raw_sample['y_obj'].shape, raw_sample['y_scns'].shape"
   ]
  },
  {
   "cell_type": "code",
   "execution_count": 46,
   "metadata": {},
   "outputs": [
    {
     "data": {
      "text/plain": [
       "(1024, 1)"
      ]
     },
     "execution_count": 46,
     "metadata": {},
     "output_type": "execute_result"
    }
   ],
   "source": [
    "avg_pool_conv7_paths = glob(os.path.join(DATA_DIR, 'avg_pooling/conv7/*'))\n",
    "avg_pool_conv7_sample = pd.read_csv(avg_pool_conv7_paths[0], header=None)\n",
    "avg_pool_conv7_sample.shape"
   ]
  },
  {
   "cell_type": "code",
   "execution_count": 43,
   "metadata": {},
   "outputs": [
    {
     "data": {
      "text/plain": [
       "(1000, 1)"
      ]
     },
     "execution_count": 43,
     "metadata": {},
     "output_type": "execute_result"
    }
   ],
   "source": [
    "avg_pool_y_obj_paths = glob(os.path.join(DATA_DIR, 'avg_pooling/y_obj/*'))\n",
    "avg_pool_y_obj_sample = pd.read_csv(avg_pool_y_obj_paths[0], header=None)\n",
    "avg_pool_y_obj_sample.shape"
   ]
  },
  {
   "cell_type": "code",
   "execution_count": 45,
   "metadata": {},
   "outputs": [
    {
     "data": {
      "text/plain": [
       "(401, 1)"
      ]
     },
     "execution_count": 45,
     "metadata": {},
     "output_type": "execute_result"
    }
   ],
   "source": [
    "avg_pool_y_scns_paths = glob(os.path.join(DATA_DIR, 'avg_pooling/y_scns/*'))\n",
    "avg_pool_y_scns_sample = pd.read_csv(avg_pool_y_scns_paths[0], header=None)\n",
    "avg_pool_y_scns_sample.shape"
   ]
  },
  {
   "cell_type": "code",
   "execution_count": 4,
   "metadata": {},
   "outputs": [
    {
     "data": {
      "text/plain": [
       "['train_val.csv', 'cls_map.csv', 'test_for_students.csv']"
      ]
     },
     "execution_count": 4,
     "metadata": {},
     "output_type": "execute_result"
    }
   ],
   "source": [
    "os.listdir(LABEL_DIR)"
   ]
  },
  {
   "cell_type": "code",
   "execution_count": 62,
   "metadata": {},
   "outputs": [
    {
     "data": {
      "text/html": [
       "<div>\n",
       "<style scoped>\n",
       "    .dataframe tbody tr th:only-of-type {\n",
       "        vertical-align: middle;\n",
       "    }\n",
       "\n",
       "    .dataframe tbody tr th {\n",
       "        vertical-align: top;\n",
       "    }\n",
       "\n",
       "    .dataframe thead th {\n",
       "        text-align: right;\n",
       "    }\n",
       "</style>\n",
       "<table border=\"1\" class=\"dataframe\">\n",
       "  <thead>\n",
       "    <tr style=\"text-align: right;\">\n",
       "      <th></th>\n",
       "      <th>Id</th>\n",
       "      <th>Category</th>\n",
       "    </tr>\n",
       "  </thead>\n",
       "  <tbody>\n",
       "    <tr>\n",
       "      <th>0</th>\n",
       "      <td>NjUzNjkxMTk0MzI5NDYwNTA2NA==</td>\n",
       "      <td>0</td>\n",
       "    </tr>\n",
       "    <tr>\n",
       "      <th>1</th>\n",
       "      <td>LTcxNTE1MDY1Mjc5NzMxMTExNDI=</td>\n",
       "      <td>0</td>\n",
       "    </tr>\n",
       "    <tr>\n",
       "      <th>2</th>\n",
       "      <td>NTMyNTQxODcwODc5MjU2NDk4NA==</td>\n",
       "      <td>0</td>\n",
       "    </tr>\n",
       "    <tr>\n",
       "      <th>3</th>\n",
       "      <td>LTY0NjAxNjcyNTUyNDI5Mzc2MTE=</td>\n",
       "      <td>0</td>\n",
       "    </tr>\n",
       "    <tr>\n",
       "      <th>4</th>\n",
       "      <td>NTgzMjc4Mzk0MjQwMzYyMjA1NQ==</td>\n",
       "      <td>0</td>\n",
       "    </tr>\n",
       "    <tr>\n",
       "      <th>...</th>\n",
       "      <td>...</td>\n",
       "      <td>...</td>\n",
       "    </tr>\n",
       "    <tr>\n",
       "      <th>7495</th>\n",
       "      <td>LTUxMTQ5Mjg2OTQyNjgyMTc1NzA=</td>\n",
       "      <td>14</td>\n",
       "    </tr>\n",
       "    <tr>\n",
       "      <th>7496</th>\n",
       "      <td>NDA2NjM0NDg5MDc3NzM3NjQ5OA==</td>\n",
       "      <td>14</td>\n",
       "    </tr>\n",
       "    <tr>\n",
       "      <th>7497</th>\n",
       "      <td>LTEwMzgyODQzNTYwMjM5NDY3NzI=</td>\n",
       "      <td>14</td>\n",
       "    </tr>\n",
       "    <tr>\n",
       "      <th>7498</th>\n",
       "      <td>LTQzOTI1MDQ1OTQ3NzUyMjQ4Mg==</td>\n",
       "      <td>14</td>\n",
       "    </tr>\n",
       "    <tr>\n",
       "      <th>7499</th>\n",
       "      <td>LTIwMTA2OTMzMjU2MzMyNzExMDA=</td>\n",
       "      <td>14</td>\n",
       "    </tr>\n",
       "  </tbody>\n",
       "</table>\n",
       "<p>7500 rows × 2 columns</p>\n",
       "</div>"
      ],
      "text/plain": [
       "                                Id  Category\n",
       "0     NjUzNjkxMTk0MzI5NDYwNTA2NA==         0\n",
       "1     LTcxNTE1MDY1Mjc5NzMxMTExNDI=         0\n",
       "2     NTMyNTQxODcwODc5MjU2NDk4NA==         0\n",
       "3     LTY0NjAxNjcyNTUyNDI5Mzc2MTE=         0\n",
       "4     NTgzMjc4Mzk0MjQwMzYyMjA1NQ==         0\n",
       "...                            ...       ...\n",
       "7495  LTUxMTQ5Mjg2OTQyNjgyMTc1NzA=        14\n",
       "7496  NDA2NjM0NDg5MDc3NzM3NjQ5OA==        14\n",
       "7497  LTEwMzgyODQzNTYwMjM5NDY3NzI=        14\n",
       "7498  LTQzOTI1MDQ1OTQ3NzUyMjQ4Mg==        14\n",
       "7499  LTIwMTA2OTMzMjU2MzMyNzExMDA=        14\n",
       "\n",
       "[7500 rows x 2 columns]"
      ]
     },
     "execution_count": 62,
     "metadata": {},
     "output_type": "execute_result"
    }
   ],
   "source": [
    "train_val_df = pd.read_csv(os.path.join(LABEL_DIR, 'train_val.csv'))\n",
    "train_val_df"
   ]
  },
  {
   "cell_type": "code",
   "execution_count": 10,
   "metadata": {},
   "outputs": [
    {
     "data": {
      "text/html": [
       "<div>\n",
       "<style scoped>\n",
       "    .dataframe tbody tr th:only-of-type {\n",
       "        vertical-align: middle;\n",
       "    }\n",
       "\n",
       "    .dataframe tbody tr th {\n",
       "        vertical-align: top;\n",
       "    }\n",
       "\n",
       "    .dataframe thead th {\n",
       "        text-align: right;\n",
       "    }\n",
       "</style>\n",
       "<table border=\"1\" class=\"dataframe\">\n",
       "  <thead>\n",
       "    <tr style=\"text-align: right;\">\n",
       "      <th></th>\n",
       "      <th>Id</th>\n",
       "      <th>Category</th>\n",
       "    </tr>\n",
       "  </thead>\n",
       "  <tbody>\n",
       "    <tr>\n",
       "      <th>0</th>\n",
       "      <td>LTExODM2Mzc0ODQyOTc1ODE4NDM=</td>\n",
       "      <td>NaN</td>\n",
       "    </tr>\n",
       "    <tr>\n",
       "      <th>1</th>\n",
       "      <td>LTUwNDU3NzgyNjE2Mzk0OTU1NjQ=</td>\n",
       "      <td>NaN</td>\n",
       "    </tr>\n",
       "    <tr>\n",
       "      <th>2</th>\n",
       "      <td>ODU3OTE0MDU5NzM5NDI2MDQ2</td>\n",
       "      <td>NaN</td>\n",
       "    </tr>\n",
       "    <tr>\n",
       "      <th>3</th>\n",
       "      <td>LTQ4OTE2NDk5ODk4MTA3NDY5Mzg=</td>\n",
       "      <td>NaN</td>\n",
       "    </tr>\n",
       "    <tr>\n",
       "      <th>4</th>\n",
       "      <td>MjkzNzMwNzkxNTg5NDA1Mjk3NQ==</td>\n",
       "      <td>NaN</td>\n",
       "    </tr>\n",
       "    <tr>\n",
       "      <th>...</th>\n",
       "      <td>...</td>\n",
       "      <td>...</td>\n",
       "    </tr>\n",
       "    <tr>\n",
       "      <th>744</th>\n",
       "      <td>Nzk0NzA0MjYxMTg3NDkxNjQ4OQ==</td>\n",
       "      <td>NaN</td>\n",
       "    </tr>\n",
       "    <tr>\n",
       "      <th>745</th>\n",
       "      <td>LTMzMjA0NjkyNzYwMDQ0NDUyNzY=</td>\n",
       "      <td>NaN</td>\n",
       "    </tr>\n",
       "    <tr>\n",
       "      <th>746</th>\n",
       "      <td>LTQxNDgxNjU0MzY3OTQzNzIzMTc=</td>\n",
       "      <td>NaN</td>\n",
       "    </tr>\n",
       "    <tr>\n",
       "      <th>747</th>\n",
       "      <td>NjQyMjk5MDM5OTgwNzY2NDU1MQ==</td>\n",
       "      <td>NaN</td>\n",
       "    </tr>\n",
       "    <tr>\n",
       "      <th>748</th>\n",
       "      <td>LTk2NzY1NzIyNTY3MzIxMDkyOA==</td>\n",
       "      <td>NaN</td>\n",
       "    </tr>\n",
       "  </tbody>\n",
       "</table>\n",
       "<p>749 rows × 2 columns</p>\n",
       "</div>"
      ],
      "text/plain": [
       "                               Id  Category\n",
       "0    LTExODM2Mzc0ODQyOTc1ODE4NDM=       NaN\n",
       "1    LTUwNDU3NzgyNjE2Mzk0OTU1NjQ=       NaN\n",
       "2        ODU3OTE0MDU5NzM5NDI2MDQ2       NaN\n",
       "3    LTQ4OTE2NDk5ODk4MTA3NDY5Mzg=       NaN\n",
       "4    MjkzNzMwNzkxNTg5NDA1Mjk3NQ==       NaN\n",
       "..                            ...       ...\n",
       "744  Nzk0NzA0MjYxMTg3NDkxNjQ4OQ==       NaN\n",
       "745  LTMzMjA0NjkyNzYwMDQ0NDUyNzY=       NaN\n",
       "746  LTQxNDgxNjU0MzY3OTQzNzIzMTc=       NaN\n",
       "747  NjQyMjk5MDM5OTgwNzY2NDU1MQ==       NaN\n",
       "748  LTk2NzY1NzIyNTY3MzIxMDkyOA==       NaN\n",
       "\n",
       "[749 rows x 2 columns]"
      ]
     },
     "execution_count": 10,
     "metadata": {},
     "output_type": "execute_result"
    }
   ],
   "source": [
    "test_df = pd.read_csv(os.path.join(LABEL_DIR, 'test_for_students.csv'))\n",
    "test_df"
   ]
  },
  {
   "cell_type": "code",
   "execution_count": 13,
   "metadata": {},
   "outputs": [
    {
     "data": {
      "text/plain": [
       "(['NjM0NzQ4NzY1NDk5NTU2MDIwMg==',\n",
       "  'LTU4NzEwMDUxODUyNjk2MzUyMDE=',\n",
       "  'MzY0MDY5NDQxMjE4NDkwNDYwMw==',\n",
       "  'LTg4ODI5NDk0MjQzMjkzOTUxNjc='],\n",
       " 8249)"
      ]
     },
     "execution_count": 13,
     "metadata": {},
     "output_type": "execute_result"
    }
   ],
   "source": [
    "video_names = os.listdir(os.path.join(DATA_DIR, 'videos'))\n",
    "video_names = [x.split('.m')[0] for x in video_names]\n",
    "video_names[:4], len(video_names)"
   ]
  },
  {
   "cell_type": "code",
   "execution_count": 15,
   "metadata": {},
   "outputs": [
    {
     "data": {
      "text/plain": [
       "(['MzAxOTUwOTU4MTExNjMxNTE4OQ==',\n",
       "  'MjU5MzIwNDg2MDQ1MDM1Njg3OQ==',\n",
       "  'MjM3NDc0NjAxNTQzOTE3MzE0OA==',\n",
       "  'NjE5ODk5NjM1NTUxNjE4NTk2OA=='],\n",
       " 8245)"
      ]
     },
     "execution_count": 15,
     "metadata": {},
     "output_type": "execute_result"
    }
   ],
   "source": [
    "wav_names = os.listdir(os.path.join(DATA_DIR, 'wav'))\n",
    "wav_names = [x.split('.w')[0] for x in wav_names]\n",
    "wav_names[:4], len(wav_names)"
   ]
  },
  {
   "cell_type": "code",
   "execution_count": 18,
   "metadata": {},
   "outputs": [
    {
     "data": {
      "text/plain": [
       "{'LTQ5ODI3NjU5MTQ3OTQ4NTAwOQ==',\n",
       " 'LTgxOTM5Mzg2MTMwNzM4NjQzNzg=',\n",
       " 'Mjg0MDgxODgzMDUyOTk3NjE2OA==',\n",
       " 'NTkxNzA4MjE4OTM1ODg4NTYxOA=='}"
      ]
     },
     "execution_count": 18,
     "metadata": {},
     "output_type": "execute_result"
    }
   ],
   "source": [
    "v_set = set(video_names)\n",
    "w_set = set(wav_names)\n",
    "no_audios = v_set - w_set\n",
    "no_audios"
   ]
  },
  {
   "cell_type": "code",
   "execution_count": 63,
   "metadata": {},
   "outputs": [],
   "source": [
    "for no_audio in no_audios:\n",
    "    train_val_df = train_val_df.drop(index=train_val_df[train_val_df.Id == no_audio].index)"
   ]
  },
  {
   "cell_type": "code",
   "execution_count": 64,
   "metadata": {},
   "outputs": [
    {
     "data": {
      "text/plain": [
       "7496"
      ]
     },
     "execution_count": 64,
     "metadata": {},
     "output_type": "execute_result"
    }
   ],
   "source": [
    "len(train_val_df)"
   ]
  },
  {
   "cell_type": "code",
   "execution_count": 65,
   "metadata": {},
   "outputs": [
    {
     "data": {
      "text/plain": [
       "0     500\n",
       "1     500\n",
       "3     500\n",
       "4     500\n",
       "5     500\n",
       "7     500\n",
       "8     500\n",
       "9     500\n",
       "10    500\n",
       "11    500\n",
       "12    500\n",
       "13    500\n",
       "6     499\n",
       "14    499\n",
       "2     498\n",
       "Name: Category, dtype: int64"
      ]
     },
     "execution_count": 65,
     "metadata": {},
     "output_type": "execute_result"
    }
   ],
   "source": [
    "train_val_df.Category.value_counts()"
   ]
  },
  {
   "cell_type": "code",
   "execution_count": 50,
   "metadata": {},
   "outputs": [],
   "source": [
    "from sklearn.model_selection import StratifiedKFold\n"
   ]
  },
  {
   "cell_type": "code",
   "execution_count": 66,
   "metadata": {},
   "outputs": [
    {
     "data": {
      "text/html": [
       "<div>\n",
       "<style scoped>\n",
       "    .dataframe tbody tr th:only-of-type {\n",
       "        vertical-align: middle;\n",
       "    }\n",
       "\n",
       "    .dataframe tbody tr th {\n",
       "        vertical-align: top;\n",
       "    }\n",
       "\n",
       "    .dataframe thead th {\n",
       "        text-align: right;\n",
       "    }\n",
       "</style>\n",
       "<table border=\"1\" class=\"dataframe\">\n",
       "  <thead>\n",
       "    <tr style=\"text-align: right;\">\n",
       "      <th></th>\n",
       "      <th>Id</th>\n",
       "      <th>Category</th>\n",
       "      <th>kfold</th>\n",
       "    </tr>\n",
       "  </thead>\n",
       "  <tbody>\n",
       "    <tr>\n",
       "      <th>0</th>\n",
       "      <td>NjUzNjkxMTk0MzI5NDYwNTA2NA==</td>\n",
       "      <td>0</td>\n",
       "      <td>3.0</td>\n",
       "    </tr>\n",
       "    <tr>\n",
       "      <th>1</th>\n",
       "      <td>LTcxNTE1MDY1Mjc5NzMxMTExNDI=</td>\n",
       "      <td>0</td>\n",
       "      <td>0.0</td>\n",
       "    </tr>\n",
       "    <tr>\n",
       "      <th>2</th>\n",
       "      <td>NTMyNTQxODcwODc5MjU2NDk4NA==</td>\n",
       "      <td>0</td>\n",
       "      <td>3.0</td>\n",
       "    </tr>\n",
       "    <tr>\n",
       "      <th>3</th>\n",
       "      <td>LTY0NjAxNjcyNTUyNDI5Mzc2MTE=</td>\n",
       "      <td>0</td>\n",
       "      <td>1.0</td>\n",
       "    </tr>\n",
       "    <tr>\n",
       "      <th>4</th>\n",
       "      <td>NTgzMjc4Mzk0MjQwMzYyMjA1NQ==</td>\n",
       "      <td>0</td>\n",
       "      <td>1.0</td>\n",
       "    </tr>\n",
       "  </tbody>\n",
       "</table>\n",
       "</div>"
      ],
      "text/plain": [
       "                             Id  Category  kfold\n",
       "0  NjUzNjkxMTk0MzI5NDYwNTA2NA==         0    3.0\n",
       "1  LTcxNTE1MDY1Mjc5NzMxMTExNDI=         0    0.0\n",
       "2  NTMyNTQxODcwODc5MjU2NDk4NA==         0    3.0\n",
       "3  LTY0NjAxNjcyNTUyNDI5Mzc2MTE=         0    1.0\n",
       "4  NTgzMjc4Mzk0MjQwMzYyMjA1NQ==         0    1.0"
      ]
     },
     "execution_count": 66,
     "metadata": {},
     "output_type": "execute_result"
    }
   ],
   "source": [
    "train_val_df = train_val_df.reset_index(drop=True)\n",
    "gkf = StratifiedKFold(n_splits=5, shuffle=True, random_state=42)\n",
    "for fold, ( _, val_) in enumerate(gkf.split(X=train_val_df, y=train_val_df.Category)):\n",
    "      train_val_df.loc[val_ , \"kfold\"] = fold\n",
    "\n",
    "train_val_df.head()"
   ]
  },
  {
   "cell_type": "code",
   "execution_count": 67,
   "metadata": {},
   "outputs": [
    {
     "data": {
      "text/plain": [
       "0     100\n",
       "1     100\n",
       "3     100\n",
       "4     100\n",
       "5     100\n",
       "6     100\n",
       "7     100\n",
       "8     100\n",
       "9     100\n",
       "10    100\n",
       "11    100\n",
       "12    100\n",
       "13    100\n",
       "14    100\n",
       "2      99\n",
       "Name: Category, dtype: int64"
      ]
     },
     "execution_count": 67,
     "metadata": {},
     "output_type": "execute_result"
    }
   ],
   "source": [
    "train_val_df[train_val_df.kfold==4.0].Category.value_counts()"
   ]
  },
  {
   "cell_type": "code",
   "execution_count": 68,
   "metadata": {},
   "outputs": [],
   "source": [
    "train_val_df.to_csv(os.path.join(LABEL_DIR, 'kfold_df.csv'), index=False)"
   ]
  },
  {
   "cell_type": "code",
   "execution_count": null,
   "metadata": {},
   "outputs": [],
   "source": []
  }
 ],
 "metadata": {
  "interpreter": {
   "hash": "98f3181f4900a3173dff2251935f87d1f345563f3a07cb125f858d750ad52894"
  },
  "kernelspec": {
   "display_name": "Python 3.8.8 ('torch18')",
   "language": "python",
   "name": "python3"
  },
  "language_info": {
   "codemirror_mode": {
    "name": "ipython",
    "version": 3
   },
   "file_extension": ".py",
   "mimetype": "text/x-python",
   "name": "python",
   "nbconvert_exporter": "python",
   "pygments_lexer": "ipython3",
   "version": "3.8.8"
  },
  "orig_nbformat": 4
 },
 "nbformat": 4,
 "nbformat_minor": 2
}
