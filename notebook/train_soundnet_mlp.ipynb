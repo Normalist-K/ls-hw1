{
 "cells": [
  {
   "cell_type": "code",
   "execution_count": 1,
   "metadata": {},
   "outputs": [],
   "source": [
    "import numpy as np\n",
    "import os\n",
    "import pickle\n",
    "import argparse\n",
    "import sys\n",
    "import pdb\n",
    "import pandas as pd\n",
    "from sklearn.neural_network import MLPClassifier\n",
    "from sklearn.model_selection import cross_val_score, cross_validate\n",
    "\n",
    "from sklearn.model_selection import GridSearchCV\n",
    "from sklearn.metrics import confusion_matrix"
   ]
  },
  {
   "cell_type": "code",
   "execution_count": 2,
   "metadata": {},
   "outputs": [],
   "source": [
    "BASE_DIR = '/root/class/cmu/LSMA/ls-hw1'\n",
    "DATA_DIR = '/shared/youngkim/dataset'\n",
    "os.chdir(DATA_DIR)\n",
    "\n",
    "class args:\n",
    "    feat_dir = 'avg_pooling/y_scns/'\n",
    "    feat_dim = 50\n",
    "    list_videos = os.path.join(DATA_DIR, 'labels/kfold_df.csv')\n",
    "    output_file = 'models/mfcc-50.svm.multiclass.model'\n",
    "    feat_appendix = '.csv'\n",
    "    hidden_dim = 512"
   ]
  },
  {
   "cell_type": "code",
   "execution_count": 3,
   "metadata": {},
   "outputs": [
    {
     "data": {
      "text/plain": [
       "(7496,\n",
       "                              Id  Category  kfold\n",
       " 0  NjUzNjkxMTk0MzI5NDYwNTA2NA==         0    3.0\n",
       " 1  LTcxNTE1MDY1Mjc5NzMxMTExNDI=         0    0.0\n",
       " 2  NTMyNTQxODcwODc5MjU2NDk4NA==         0    3.0\n",
       " 3  LTY0NjAxNjcyNTUyNDI5Mzc2MTE=         0    1.0\n",
       " 4  NTgzMjc4Mzk0MjQwMzYyMjA1NQ==         0    1.0)"
      ]
     },
     "execution_count": 3,
     "metadata": {},
     "output_type": "execute_result"
    }
   ],
   "source": [
    "df = pd.read_csv(args.list_videos)\n",
    "len(df), df.head()"
   ]
  },
  {
   "cell_type": "code",
   "execution_count": 4,
   "metadata": {},
   "outputs": [
    {
     "data": {
      "text/plain": [
       "(                                Id  Category  kfold\n",
       " 0     NjUzNjkxMTk0MzI5NDYwNTA2NA==         0    3.0\n",
       " 1     LTcxNTE1MDY1Mjc5NzMxMTExNDI=         0    0.0\n",
       " 2     NTMyNTQxODcwODc5MjU2NDk4NA==         0    3.0\n",
       " 3     LTY0NjAxNjcyNTUyNDI5Mzc2MTE=         0    1.0\n",
       " 4     NTgzMjc4Mzk0MjQwMzYyMjA1NQ==         0    1.0\n",
       " ...                            ...       ...    ...\n",
       " 5992  NTcyMTgwOTU4NjUxMjE2NTIwMA==        14    0.0\n",
       " 5993  LTUxMTQ5Mjg2OTQyNjgyMTc1NzA=        14    1.0\n",
       " 5994  NDA2NjM0NDg5MDc3NzM3NjQ5OA==        14    0.0\n",
       " 5995  LTEwMzgyODQzNTYwMjM5NDY3NzI=        14    0.0\n",
       " 5996  LTQzOTI1MDQ1OTQ3NzUyMjQ4Mg==        14    3.0\n",
       " \n",
       " [5997 rows x 3 columns],\n",
       " 5997)"
      ]
     },
     "execution_count": 4,
     "metadata": {},
     "output_type": "execute_result"
    }
   ],
   "source": [
    "train_df = df[df.kfold != 4.0].copy().reset_index(drop=True)\n",
    "train_df, len(train_df)"
   ]
  },
  {
   "cell_type": "code",
   "execution_count": 5,
   "metadata": {},
   "outputs": [
    {
     "data": {
      "text/plain": [
       "(                                Id  Category  kfold\n",
       " 0     LTc3NzAzMjA5ODk0ODc0OTQyNDI=         0    4.0\n",
       " 1     MTY2MDM5NzQ4NTYyMDU5MDcxNA==         0    4.0\n",
       " 2     LTc2MjMwNzM2OTM0NDg3NzM1Njk=         0    4.0\n",
       " 3     NjIyOTQ3MTMyOTk4OTQyNDg3Mw==         0    4.0\n",
       " 4     LTQ1NDc0MzE1MzIxOTU0NzYwMzg=         0    4.0\n",
       " ...                            ...       ...    ...\n",
       " 1494  LTIxNzI4NzM0ODQwMTY3MzYzMjg=        14    4.0\n",
       " 1495  Mjc4NDk1MTYyNjI1MTU2OTM5OA==        14    4.0\n",
       " 1496  ODkzMDk5NjEzODg2Njk5MjY3OA==        14    4.0\n",
       " 1497  LTcxMzIwMDY2OTM1MDM0OTgwMDI=        14    4.0\n",
       " 1498  LTIwMTA2OTMzMjU2MzMyNzExMDA=        14    4.0\n",
       " \n",
       " [1499 rows x 3 columns],\n",
       " 1499)"
      ]
     },
     "execution_count": 5,
     "metadata": {},
     "output_type": "execute_result"
    }
   ],
   "source": [
    "val_df = df[df.kfold == 4.0].copy().reset_index(drop=True)\n",
    "val_df, len(val_df)"
   ]
  },
  {
   "cell_type": "code",
   "execution_count": 6,
   "metadata": {},
   "outputs": [],
   "source": [
    "train_feat_list, train_label_list = [], []\n",
    "\n",
    "for video_id, label in zip(train_df.Id, train_df.Category):\n",
    "    feat_filepath = os.path.join(args.feat_dir, video_id+args.feat_appendix)\n",
    "    if os.path.exists(feat_filepath):\n",
    "        train_feat_list.append(np.genfromtxt(feat_filepath, delimiter=\";\", dtype=\"float\"))\n",
    "        train_label_list.append(int(label))\n",
    "    else:\n",
    "        print(video_id)"
   ]
  },
  {
   "cell_type": "code",
   "execution_count": 7,
   "metadata": {},
   "outputs": [],
   "source": [
    "train_y = np.array(train_label_list)\n",
    "train_X = np.array(train_feat_list)"
   ]
  },
  {
   "cell_type": "code",
   "execution_count": 8,
   "metadata": {},
   "outputs": [
    {
     "data": {
      "text/plain": [
       "(5997, 401)"
      ]
     },
     "execution_count": 8,
     "metadata": {},
     "output_type": "execute_result"
    }
   ],
   "source": [
    "train_X.shape"
   ]
  },
  {
   "cell_type": "code",
   "execution_count": 9,
   "metadata": {},
   "outputs": [],
   "source": [
    "val_feat_list, val_label_list = [], []\n",
    "\n",
    "for video_id, label in zip(val_df.Id, val_df.Category):\n",
    "    feat_filepath = os.path.join(args.feat_dir, video_id+args.feat_appendix)\n",
    "    if os.path.exists(feat_filepath):\n",
    "        val_feat_list.append(np.genfromtxt(feat_filepath, delimiter=\";\", dtype=\"float\"))\n",
    "        val_label_list.append(int(label))\n",
    "    else:\n",
    "        print(video_id)\n",
    "\n",
    "val_y = np.array(val_label_list)\n",
    "val_X = np.array(val_feat_list)"
   ]
  },
  {
   "cell_type": "code",
   "execution_count": 10,
   "metadata": {},
   "outputs": [],
   "source": [
    "feat_list, label_list = [], []\n",
    "\n",
    "for video_id, label in zip(df.Id, df.Category):\n",
    "    feat_filepath = os.path.join(args.feat_dir, video_id+args.feat_appendix)\n",
    "    if os.path.exists(feat_filepath):\n",
    "        feat_list.append(np.genfromtxt(feat_filepath, delimiter=\";\", dtype=\"float\"))\n",
    "        label_list.append(int(label))\n",
    "    else:\n",
    "        print(video_id)\n",
    "\n",
    "y = np.array(label_list)\n",
    "X = np.array(feat_list)"
   ]
  },
  {
   "cell_type": "code",
   "execution_count": 11,
   "metadata": {},
   "outputs": [
    {
     "name": "stderr",
     "output_type": "stream",
     "text": [
      "/root/anaconda3/envs/torch18/lib/python3.8/site-packages/sklearn/neural_network/_multilayer_perceptron.py:568: ConvergenceWarning: Stochastic Optimizer: Maximum iterations (200) reached and the optimization hasn't converged yet.\n",
      "  warnings.warn(\n"
     ]
    },
    {
     "name": "stdout",
     "output_type": "stream",
     "text": [
      "     fit_time  score_time  test_score\n",
      "0   97.786199    0.215127    0.537333\n",
      "1  110.035194    0.021938    0.509673\n",
      "2  116.382237    0.040859    0.522348\n",
      "3  115.050632    0.021691    0.534356\n",
      "4  195.095177    0.297443    0.513009\n",
      "mean of cross validation:  0.5233439181676673\n"
     ]
    }
   ],
   "source": [
    "clf = MLPClassifier(hidden_layer_sizes=args.hidden_dim,\n",
    "                    activation=\"relu\",\n",
    "                    solver=\"adam\",\n",
    "                    alpha=1e-3)\n",
    "result = pd.DataFrame(cross_validate(clf, X, y, cv =5))\n",
    "print(result)\n",
    "print('mean of cross validation: ', np.mean(result.test_score))"
   ]
  },
  {
   "cell_type": "code",
   "execution_count": 12,
   "metadata": {},
   "outputs": [
    {
     "data": {
      "text/html": [
       "<div>\n",
       "<style scoped>\n",
       "    .dataframe tbody tr th:only-of-type {\n",
       "        vertical-align: middle;\n",
       "    }\n",
       "\n",
       "    .dataframe tbody tr th {\n",
       "        vertical-align: top;\n",
       "    }\n",
       "\n",
       "    .dataframe thead th {\n",
       "        text-align: right;\n",
       "    }\n",
       "</style>\n",
       "<table border=\"1\" class=\"dataframe\">\n",
       "  <thead>\n",
       "    <tr style=\"text-align: right;\">\n",
       "      <th></th>\n",
       "      <th>alpha</th>\n",
       "      <th>hidden_layer_sizes</th>\n",
       "      <th>mean_test_score</th>\n",
       "    </tr>\n",
       "  </thead>\n",
       "  <tbody>\n",
       "    <tr>\n",
       "      <th>2</th>\n",
       "      <td>0.0010</td>\n",
       "      <td>512</td>\n",
       "      <td>0.502799</td>\n",
       "    </tr>\n",
       "    <tr>\n",
       "      <th>4</th>\n",
       "      <td>0.0001</td>\n",
       "      <td>512</td>\n",
       "      <td>0.495065</td>\n",
       "    </tr>\n",
       "    <tr>\n",
       "      <th>3</th>\n",
       "      <td>0.0010</td>\n",
       "      <td>1024</td>\n",
       "      <td>0.493861</td>\n",
       "    </tr>\n",
       "    <tr>\n",
       "      <th>1</th>\n",
       "      <td>0.0100</td>\n",
       "      <td>1024</td>\n",
       "      <td>0.493462</td>\n",
       "    </tr>\n",
       "    <tr>\n",
       "      <th>5</th>\n",
       "      <td>0.0001</td>\n",
       "      <td>1024</td>\n",
       "      <td>0.491197</td>\n",
       "    </tr>\n",
       "    <tr>\n",
       "      <th>0</th>\n",
       "      <td>0.0100</td>\n",
       "      <td>512</td>\n",
       "      <td>0.485057</td>\n",
       "    </tr>\n",
       "  </tbody>\n",
       "</table>\n",
       "</div>"
      ],
      "text/plain": [
       "    alpha  hidden_layer_sizes  mean_test_score\n",
       "2  0.0010                 512         0.502799\n",
       "4  0.0001                 512         0.495065\n",
       "3  0.0010                1024         0.493861\n",
       "1  0.0100                1024         0.493462\n",
       "5  0.0001                1024         0.491197\n",
       "0  0.0100                 512         0.485057"
      ]
     },
     "execution_count": 12,
     "metadata": {},
     "output_type": "execute_result"
    }
   ],
   "source": [
    "clf = MLPClassifier(activation=\"relu\",\n",
    "                    solver='adam',\n",
    "                    early_stopping=True)\n",
    "parameters = {'hidden_layer_sizes': [512, 1024], \n",
    "              'alpha': [1e-2, 1e-3, 1e-4]}\n",
    "\n",
    "grid_svm = GridSearchCV(clf, param_grid=parameters)\n",
    "\n",
    "grid_svm.fit(X, y)\n",
    "\n",
    "result = pd.DataFrame(grid_svm.cv_results_['params'])\n",
    "result['mean_test_score'] = grid_svm.cv_results_['mean_test_score']\n",
    "result.sort_values(by='mean_test_score', ascending=False)"
   ]
  },
  {
   "cell_type": "code",
   "execution_count": 13,
   "metadata": {},
   "outputs": [
    {
     "name": "stderr",
     "output_type": "stream",
     "text": [
      "/root/anaconda3/envs/torch18/lib/python3.8/site-packages/sklearn/neural_network/_multilayer_perceptron.py:568: ConvergenceWarning: Stochastic Optimizer: Maximum iterations (200) reached and the optimization hasn't converged yet.\n",
      "  warnings.warn(\n"
     ]
    },
    {
     "data": {
      "text/plain": [
       "MLPClassifier(activation='relu', alpha=0.001, batch_size='auto', beta_1=0.9,\n",
       "              beta_2=0.999, early_stopping=False, epsilon=1e-08,\n",
       "              hidden_layer_sizes=512, learning_rate='constant',\n",
       "              learning_rate_init=0.001, max_fun=15000, max_iter=200,\n",
       "              momentum=0.9, n_iter_no_change=10, nesterovs_momentum=True,\n",
       "              power_t=0.5, random_state=None, shuffle=True, solver='adam',\n",
       "              tol=0.0001, validation_fraction=0.1, verbose=False,\n",
       "              warm_start=False)"
      ]
     },
     "execution_count": 13,
     "metadata": {},
     "output_type": "execute_result"
    }
   ],
   "source": [
    "clf = MLPClassifier(hidden_layer_sizes=args.hidden_dim,\n",
    "                    activation=\"relu\",\n",
    "                    solver=\"adam\",\n",
    "                    alpha=1e-3)\n",
    "clf.fit(train_X, train_y)"
   ]
  },
  {
   "cell_type": "code",
   "execution_count": 16,
   "metadata": {},
   "outputs": [
    {
     "name": "stdout",
     "output_type": "stream",
     "text": [
      "prediction accuracy: 0.5477\n"
     ]
    },
    {
     "data": {
      "text/plain": [
       "array([[50,  1, 17,  5,  3,  1,  0,  1,  0,  0,  0,  1,  3,  1, 17],\n",
       "       [ 0, 57,  7,  1,  4,  1, 11,  2,  3,  0,  0,  5,  1,  8,  0],\n",
       "       [ 6,  1, 44, 11,  2,  5,  3,  1,  0,  3,  0,  3,  1,  0, 19],\n",
       "       [ 5,  0,  6, 47,  5,  4,  7,  2,  0,  2,  0,  5,  2,  0, 15],\n",
       "       [ 1,  4,  6,  4, 63,  2,  7,  1,  1,  0,  0,  9,  1,  0,  1],\n",
       "       [ 1,  1,  4,  3,  5, 52,  8,  9,  1,  4,  0, 11,  1,  0,  0],\n",
       "       [ 0,  4,  1,  1,  1,  1, 69,  7,  2,  4,  0,  6,  2,  2,  0],\n",
       "       [ 0,  1,  3,  3,  0,  3, 26, 48,  2,  1,  0,  8,  1,  2,  2],\n",
       "       [ 1,  3,  1,  0,  1,  0, 10,  0, 67,  5,  2,  0,  2,  6,  2],\n",
       "       [ 3,  1,  3,  1,  1,  1, 12,  1,  6, 39, 22,  0,  3,  3,  4],\n",
       "       [ 5,  0,  5,  2,  0,  0,  2,  0,  2,  9, 69,  2,  1,  0,  3],\n",
       "       [ 0,  4,  2,  2,  5,  4, 12, 14,  1,  3,  0, 50,  1,  0,  2],\n",
       "       [ 9,  2,  4,  2,  3,  2,  5,  0,  9, 22,  7,  0, 26,  0,  9],\n",
       "       [ 0,  5,  1,  0,  1,  3,  3,  1,  9,  3,  0,  0,  1, 73,  0],\n",
       "       [ 3,  0,  8,  8,  1,  2,  1,  0,  0,  1,  0,  8,  0,  1, 67]])"
      ]
     },
     "execution_count": 16,
     "metadata": {},
     "output_type": "execute_result"
    }
   ],
   "source": [
    "val_pred = clf.predict(val_X)\n",
    "print(f\"prediction accuracy: {np.mean(val_pred == val_y):.4f}\")\n",
    "cf_matrix = confusion_matrix(val_y, val_pred)\n",
    "cf_matrix\n"
   ]
  },
  {
   "cell_type": "code",
   "execution_count": 17,
   "metadata": {},
   "outputs": [
    {
     "data": {
      "text/plain": [
       "<AxesSubplot:>"
      ]
     },
     "execution_count": 17,
     "metadata": {},
     "output_type": "execute_result"
    },
    {
     "data": {
      "image/png": "[encoded data removed]",
      "text/plain": [
       "<Figure size 432x288 with 2 Axes>"
      ]
     },
     "metadata": {
      "needs_background": "light"
     },
     "output_type": "display_data"
    }
   ],
   "source": [
    "import seaborn as sns\n",
    "sns.heatmap(cf_matrix, annot=True)"
   ]
  },
  {
   "cell_type": "code",
   "execution_count": null,
   "metadata": {},
   "outputs": [],
   "source": []
  }
 ],
 "metadata": {
  "interpreter": {
   "hash": "98f3181f4900a3173dff2251935f87d1f345563f3a07cb125f858d750ad52894"
  },
  "kernelspec": {
   "display_name": "Python 3.8.8 ('torch18': conda)",
   "language": "python",
   "name": "python3"
  },
  "language_info": {
   "codemirror_mode": {
    "name": "ipython",
    "version": 3
   },
   "file_extension": ".py",
   "mimetype": "text/x-python",
   "name": "python",
   "nbconvert_exporter": "python",
   "pygments_lexer": "ipython3",
   "version": "3.8.8"
  },
  "orig_nbformat": 4
 },
 "nbformat": 4,
 "nbformat_minor": 2
}
